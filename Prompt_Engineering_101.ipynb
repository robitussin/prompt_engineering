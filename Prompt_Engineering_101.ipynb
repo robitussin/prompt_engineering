{
  "nbformat": 4,
  "nbformat_minor": 0,
  "metadata": {
    "colab": {
      "provenance": [],
      "include_colab_link": true
    },
    "kernelspec": {
      "name": "python3",
      "display_name": "Python 3"
    },
    "language_info": {
      "name": "python"
    }
  },
  "cells": [
    {
      "cell_type": "markdown",
      "metadata": {
        "id": "view-in-github",
        "colab_type": "text"
      },
      "source": [
        "<a href=\"https://colab.research.google.com/github/robitussin/prompt_engineering/blob/main/Prompt_Engineering_101.ipynb\" target=\"_parent\"><img src=\"https://colab.research.google.com/assets/colab-badge.svg\" alt=\"Open In Colab\"/></a>"
      ]
    },
    {
      "cell_type": "markdown",
      "source": [
        "##### Copyright 2023 AssemblyAI, https://www.assemblyai.com/"
      ],
      "metadata": {
        "id": "eZDNDgSUn4LD"
      }
    },
    {
      "cell_type": "markdown",
      "source": [
        "# Prompt Engineering 101\n",
        "\n",
        "Or: *How to talk to an LLM to get it to do what you want.*"
      ],
      "metadata": {
        "id": "AZRm-WU6EjlO"
      }
    },
    {
      "cell_type": "markdown",
      "source": [
        "## 1. Elements of a prompt\n",
        "\n",
        " <img src='https://drive.google.com/uc?export=view&id=1Ey5SaKoBL16Gb2L9QNlqWL4j2Zg7G_5W' width=500px>\n",
        "\n",
        " At least an instruction or question should be present.\n",
        "\n",
        "- Instructions\n",
        "\n",
        "```\n",
        "> Translate from English to German: How are you?\n",
        "```\n",
        "\n",
        "- Questions\n",
        "\n",
        "```\n",
        "> What is the meaning of life?\n",
        "```\n",
        "\n",
        "- Input data / Context\n",
        "\n",
        "```\n",
        "> Here is a transcript of a podcast about Generative AI: {transcript}.\n",
        "\n",
        "  What do they say about LLMs?\n",
        "```\n",
        "\n",
        "- Examples\n",
        "\n",
        "-> Few-shot prompting\n",
        "\n",
        "```\n",
        "> Question: The capital of France is?\n",
        "  Answer: Paris\n",
        "\n",
        "  Question: The capital of Germany is?\n",
        "  Answer:\n",
        "```\n",
        "\n",
        "- Output format\n",
        "\n",
        "```\n",
        "> ...\n",
        "\n",
        "Output: Yes, No\n",
        "\n",
        "or\n",
        "\n",
        "Output: Provide a short answer, and then explain your reasoning.\n",
        "```"
      ],
      "metadata": {
        "id": "rNaLerjVGjB6"
      }
    },
    {
      "cell_type": "markdown",
      "source": [
        "## 2. Use cases\n",
        "\n",
        " <img src='https://drive.google.com/uc?export=view&id=1TFlCrzyJT1YO9ChIGEOWCqMWfCCjHlmT' width=500px>\n",
        "\n",
        "- Summarization\n",
        "\n",
        "```\n",
        "> Summarize the following text:\n",
        "\n",
        "  Text: ...\n",
        "```\n",
        "\n",
        "- Text classification\n",
        "\n",
        "```\n",
        "> Classify the following text into one of the classes - sports, finance, education.\n",
        "\n",
        "  Text: ...\n",
        "```\n",
        "\n",
        "- Translation\n",
        "\n",
        "```\n",
        "> Translate from English to German:\n",
        "\n",
        "  The best programming language is Python.\n",
        "```\n",
        "\n",
        "- Text Generation / Text completion\n",
        "\n",
        "```\n",
        "> AI is\n",
        "```\n",
        "\n",
        "- Question / Answering\n",
        "\n",
        "```\n",
        "> What is the meaning of life?\n",
        "\n",
        "> Based on the following podcast transcript, what is the host's opinion about AI?\n",
        "\n",
        "  Transcript: ...\n",
        "```\n",
        "\n",
        "- Coaching\n",
        "\n",
        "```\n",
        "> How would you improve the following script for a YouTube video about Generative AI?\n",
        "\n",
        "  Script:\n",
        "```\n",
        "\n",
        "- Image generation\n",
        "\n",
        "```\n",
        "> Generate an image of a cute puppy.\n",
        "```"
      ],
      "metadata": {
        "id": "Oz5naLl7JpLV"
      }
    },
    {
      "cell_type": "markdown",
      "source": [
        "## 3. General tips\n",
        "\n",
        "- Use direct instructions or a clear question. Use concise and unambiguous language.\n",
        "- Provide any relevant information or data as context.\n",
        "- Give examples in prompts (=few-shot prompting).\n",
        "- Specify the desired output format.\n",
        "- Encourage the model to be factual through other means:\n",
        "\n",
        "```\n",
        "> Are mRNA vaccines safe?\n",
        "Answer only using reliable sources and cite those sources.\n",
        "```\n",
        "\n",
        "- Align prompt instructions with the task's end goal:\n",
        "\n",
        "```\n",
        "> This is a conversation between a customer and a polite, helpful customer support service agent.\n",
        "\n",
        "Customer: Can you help me?\n",
        "\n",
        "Assistamt: Of course! What is your question?\n",
        "```\n",
        "\n",
        "- Use personas to get more specific voices:\n",
        "\n",
        "```\n",
        "> You are a kind customer support service agent. ...\n",
        "```"
      ],
      "metadata": {
        "id": "9j8LwZGPLkox"
      }
    },
    {
      "cell_type": "markdown",
      "source": [
        "## 4. Prompting techniques to control the output\n",
        "\n",
        "- Length control: Specify desired output length\n",
        "\n",
        "```\n",
        "> Write a 150 word summary on…\n",
        "```\n",
        "\n",
        "- Tone control:\n",
        "\n",
        "```\n",
        "> Write a polite response\n",
        "```\n",
        "\n",
        "- Style control:\n",
        "\n",
        "```\n",
        "> Give me the summary as bullet points\n",
        "```\n",
        "\n",
        "- Audience control:\n",
        "\n",
        "```\n",
        "> Explain this topic to a 5 year old kid\n",
        "```\n",
        "\n",
        "- Context control (How much context you share)\n",
        "\n",
        "- Scenario-based guiding:\n",
        "\n",
        "```\n",
        "> You are a customer support expert.\n",
        "```\n",
        "\n",
        "- Chain of thought prompting: provides a \"chain of thought\" process that showcases how the correct answer to a question should be reached.\n",
        "Provide the chain of thought either with examples (few-shot), or simply by adding \"Let's think step by step\".\n",
        "\n",
        "```\n",
        "I went to the market and bought 10 apples.\n",
        "I gave 2 apples to the neighbor and 2 to the repairman.\n",
        "I then went and bought 5 more apples and ate 1.\n",
        "How many apples did I remain with?\n",
        "\n",
        "Answer:\n",
        "First, you started with 10 apples.\n",
        "You gave away 2 apples to the neighbor and 2 to the repairman, so you had 6 apples left.\n",
        "Then you bought 5 more apples, so now you had 11 apples.\n",
        "Finally, you ate 1 apple, so you would remain with 10 apples.\n",
        "\n",
        "\n",
        "I went to the market and bought 50 apples.\n",
        "I gave 3 apples to the neighbor and 7 to the repairman.\n",
        "I then went and bought 15 more apples and ate 3.\n",
        "How many apples did I remain with?\n",
        "\n",
        "Answer:\n",
        "```\n",
        "\n",
        "Or zero-shot COT:\n",
        "\n",
        "```\n",
        "I went to the market and bought 10 apples.\n",
        "I gave 2 apples to the neighbor and 2 to the repairman.\n",
        "I then went and bought 5 more apples and ate 1.\n",
        "How many apples did I remain with?\n",
        "\n",
        "Let's think step by step.\n",
        "```\n",
        "\n",
        "- Avoid hallucination:\n",
        "\n",
        "```\n",
        "> Don't make anything up.\n",
        "\n",
        "> Select one or two relevant quotations from the text to back up your claims.\n",
        "```"
      ],
      "metadata": {
        "id": "kyT5unZ4O_Yh"
      }
    },
    {
      "cell_type": "markdown",
      "source": [
        "## 5. Hacks\n",
        "From [Anthropic docs](https://docs.anthropic.com/claude/docs/ask-claude-for-rewrites):\n",
        "- Let the model say \"I don't know\" to prevent hallucinations\n",
        "\n",
        "```\n",
        "> Answer the following question only if you know the answer or can make a well-informed guess; otherwise tell me you don't know it.\n",
        "\n",
        "What was the heaviest hippo ever recorded?\n",
        "```\n",
        "\n",
        "- Give the model room to \"think\" before responding\n",
        "\n",
        "```\n",
        "> Instruction\n",
        "\n",
        "When you reply, first find exact quotes in the FAQ relevant to the user's question and write them down word for word.\n",
        "\n",
        "This is a space for you to write down relevant content and will not be shown to the user.\n",
        "\n",
        "Once you are done extracting relevant quotes, answer the question.\n",
        "```\n",
        "\n",
        "- Break complex tasks into subtasks\n",
        "\n",
        "```\n",
        "> Please follow these steps:\n",
        "1. Write three topic sentences arguing for {{STATEMENT}}.\n",
        "2. Write three topic sentences arguing against {{STATEMENT}}.\n",
        "3. Write an essay by expanding each topic sentence from Steps 1 and 2, and adding a conclusion to synthesize the arguments. Please enclose the essay in <essay></essay> tags.\n",
        "\n",
        "Assistant:\n",
        "```\n",
        "\n",
        "- Check the model's comprehension\n",
        "\n",
        "```\n",
        "> Human: I am going to give you a sentence and you need to tell me how many times it contains the word \"apple\".\n",
        "For example, if I say \"I would like an apple\" then the answer is \"1\" because the word \"apple\" is in the sentence once.\n",
        "You can reason through or explain anything you'd like before responding, but make sure at the very end, you end your answer with just the final answer in brackets, like this: [1].\n",
        "\n",
        "Do you understand the instructions?\n",
        "\n",
        "Assistant:\n",
        "```"
      ],
      "metadata": {
        "id": "gnsvw9jLS6nj"
      }
    },
    {
      "cell_type": "markdown",
      "source": [
        "## 6. Iterating Tips:\n",
        "- Try different prompts to find what works best\n",
        "- When attempting few-shot learning, try also including direct instructions\n",
        "- Rephrase a direct instruction set to be more or less concise, e.g. taking a previous example of just saying \"Translate.\" and expanding on the instruction to say \"Translate from English to Spanish.\"\n",
        "- Try different persona keywords to see how it affects the response style\n",
        "- Use fewer or more examples in your few-shot learning"
      ],
      "metadata": {
        "id": "hddEHyDnVka0"
      }
    },
    {
      "cell_type": "markdown",
      "source": [
        "## 7. Summary\n",
        "- Keep the elements of a prompt in mind\n",
        "- Apply basic tips\n",
        "- Apply prompting techniques to control the output\n",
        "- Iterate!"
      ],
      "metadata": {
        "id": "2X73HY7yW6gs"
      }
    },
    {
      "cell_type": "markdown",
      "source": [
        "## 8. Resources\n",
        "\n",
        "- https://amatriain.net/blog/PromptEngineering\n",
        "- https://humanloop.com/blog/prompt-engineering-101\n",
        "- https://github.com/SudalaiRajkumar/Talks_Webinars/blob/master/Slides/PromptEngineering_20230208.pdf\n",
        "- https://docs.cohere.com/docs/prompt-engineering\n",
        "- https://www.mihaileric.com/posts/a-complete-introduction-to-prompt-engineering/\n",
        "- https://github.com/f/awesome-chatgpt-prompts\n",
        "- https://github.com/promptslab/Awesome-Prompt-Engineering\n",
        "- https://youtu.be/v2gD8BHOaX4\n",
        "- https://docs.anthropic.com/claude/docs/optimizing-your-prompt\n",
        "- https://www.assemblyai.com/docs/Guides/lemur_best_practices\n"
      ],
      "metadata": {
        "id": "Vm7ox32gW-_y"
      }
    }
  ]
}